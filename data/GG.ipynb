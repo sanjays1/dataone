{
 "cells": [
  {
   "cell_type": "code",
   "execution_count": null,
   "metadata": {},
   "outputs": [],
   "source": [
    "# FizzBuzz \n",
    "# Histograms \n",
    "# Grouping and Pivot Tables \n",
    "# Sampling \n",
    "# Sample Statistics \n",
    "# Normal Curve and Central Limit Theorem"
   ]
  },
  {
   "cell_type": "markdown",
   "metadata": {},
   "source": [
    "### Passing a Programming Interview"
   ]
  },
  {
   "cell_type": "markdown",
   "metadata": {},
   "source": [
    "Let's warm up by writing the \"real\" FizzBuzz programming problem, who's steps are explained below (it's *slightly* different than the problem I showed in class). "
   ]
  },
  {
   "cell_type": "markdown",
   "metadata": {},
   "source": [
    "-----\n",
    "**1.1** Write a short program that prints each number from 1 to 100 on a new line. \n",
    "\n",
    "For each multiple of 3, print \"Fizz\" instead of the number. \n",
    "\n",
    "For each multiple of 5, print \"Buzz\" instead of the number. \n",
    "\n",
    "For numbers which are multiples of both 3 and 5, print \"FizzBuzz\" instead of the number.\n",
    "\n",
    "**Hint:** You should use iteration! \n",
    "\n",
    "---"
   ]
  },
  {
   "cell_type": "code",
   "execution_count": 63,
   "metadata": {},
   "outputs": [],
   "source": [
    "from datascience import *\n",
    "import matplotlib\n",
    "%matplotlib inline\n",
    "import matplotlib.pyplot as plt\n",
    "plt.style.use('fivethirtyeight')\n",
    "import warnings\n",
    "warnings.simplefilter('ignore', FutureWarning)\n",
    "import numpy as np"
   ]
  },
  {
   "cell_type": "code",
   "execution_count": 16,
   "metadata": {},
   "outputs": [],
   "source": [
    "def fizzbuzz():\n",
    "    # Your solution below!\n",
    "    return"
   ]
  },
  {
   "cell_type": "code",
   "execution_count": 11,
   "metadata": {},
   "outputs": [],
   "source": [
    "def fizzbuzz():\n",
    "    for x in range(1,101):\n",
    "        if ( (x % 3) == 0 and (x % 5) == 0):\n",
    "            print(\"FizzBuzz\")\n",
    "        elif ( (x % 3) == 0):\n",
    "            print(\"Fizz\")\n",
    "        elif ( (x % 5) == 0):\n",
    "            print(\"Buzz\")\n",
    "        else: \n",
    "            print(x)"
   ]
  },
  {
   "cell_type": "code",
   "execution_count": 12,
   "metadata": {},
   "outputs": [
    {
     "name": "stdout",
     "output_type": "stream",
     "text": [
      "1\n",
      "2\n",
      "Fizz\n",
      "4\n",
      "Buzz\n",
      "Fizz\n",
      "7\n",
      "8\n",
      "Fizz\n",
      "Buzz\n",
      "11\n",
      "Fizz\n",
      "13\n",
      "14\n",
      "FizzBuzz\n",
      "16\n",
      "17\n",
      "Fizz\n",
      "19\n",
      "Buzz\n",
      "Fizz\n",
      "22\n",
      "23\n",
      "Fizz\n",
      "Buzz\n",
      "26\n",
      "Fizz\n",
      "28\n",
      "29\n",
      "FizzBuzz\n",
      "31\n",
      "32\n",
      "Fizz\n",
      "34\n",
      "Buzz\n",
      "Fizz\n",
      "37\n",
      "38\n",
      "Fizz\n",
      "Buzz\n",
      "41\n",
      "Fizz\n",
      "43\n",
      "44\n",
      "FizzBuzz\n",
      "46\n",
      "47\n",
      "Fizz\n",
      "49\n",
      "Buzz\n",
      "Fizz\n",
      "52\n",
      "53\n",
      "Fizz\n",
      "Buzz\n",
      "56\n",
      "Fizz\n",
      "58\n",
      "59\n",
      "FizzBuzz\n",
      "61\n",
      "62\n",
      "Fizz\n",
      "64\n",
      "Buzz\n",
      "Fizz\n",
      "67\n",
      "68\n",
      "Fizz\n",
      "Buzz\n",
      "71\n",
      "Fizz\n",
      "73\n",
      "74\n",
      "FizzBuzz\n",
      "76\n",
      "77\n",
      "Fizz\n",
      "79\n",
      "Buzz\n",
      "Fizz\n",
      "82\n",
      "83\n",
      "Fizz\n",
      "Buzz\n",
      "86\n",
      "Fizz\n",
      "88\n",
      "89\n",
      "FizzBuzz\n",
      "91\n",
      "92\n",
      "Fizz\n",
      "94\n",
      "Buzz\n",
      "Fizz\n",
      "97\n",
      "98\n",
      "Fizz\n",
      "Buzz\n"
     ]
    }
   ],
   "source": [
    "# Autograder Test\n",
    "fizzbuzz()"
   ]
  },
  {
   "cell_type": "markdown",
   "metadata": {},
   "source": [
    "Congratulations you can now pass the first screening for any programming position! (Which according to a \"study\" done by one programmer, 99.5% of applicants to programming positions can't complete.)  :O"
   ]
  },
  {
   "cell_type": "markdown",
   "metadata": {},
   "source": [
    "### How long "
   ]
  },
  {
   "cell_type": "markdown",
   "metadata": {},
   "source": [
    "For today's Vitamin we're going to be looking at life expectancy data from the United Nations. The United Nations publishes yearly reports on the projected average life expectancy for citizens in every country in the world. We will be looking at the years of **2010** and **2015**. (Data Dictionary is below) "
   ]
  },
  {
   "cell_type": "markdown",
   "metadata": {},
   "source": [
    "Every row represents a record containing information about the projected average life expectancy in a specific country. \n",
    "\n",
    "**T03** is an integer which represents a region code the UN assigns for every country. \n",
    "\n",
    "**Country** is a string representing the name of the Country. \n",
    "\n",
    "**Year** is an integer representing the year that the associated life expectancy is projected for. (2005, 2010, 2015)\n",
    "\n",
    "**Life Expectancy** is a float representing the average life expectancy. "
   ]
  },
  {
   "cell_type": "code",
   "execution_count": 105,
   "metadata": {},
   "outputs": [
    {
     "data": {
      "text/html": [
       "<table border=\"1\" class=\"dataframe\">\n",
       "    <thead>\n",
       "        <tr>\n",
       "            <th>T03</th> <th>Country</th> <th>Year</th> <th>Life Expectancy</th>\n",
       "        </tr>\n",
       "    </thead>\n",
       "    <tbody>\n",
       "        <tr>\n",
       "            <td>4   </td> <td>Afghanistan</td> <td>2005</td> <td>56.9           </td>\n",
       "        </tr>\n",
       "        <tr>\n",
       "            <td>4   </td> <td>Afghanistan</td> <td>2010</td> <td>60             </td>\n",
       "        </tr>\n",
       "        <tr>\n",
       "            <td>4   </td> <td>Afghanistan</td> <td>2015</td> <td>62.3           </td>\n",
       "        </tr>\n",
       "        <tr>\n",
       "            <td>8   </td> <td>Albania    </td> <td>2005</td> <td>74.8           </td>\n",
       "        </tr>\n",
       "        <tr>\n",
       "            <td>8   </td> <td>Albania    </td> <td>2010</td> <td>75.6           </td>\n",
       "        </tr>\n",
       "        <tr>\n",
       "            <td>8   </td> <td>Albania    </td> <td>2015</td> <td>77.7           </td>\n",
       "        </tr>\n",
       "        <tr>\n",
       "            <td>12  </td> <td>Algeria    </td> <td>2005</td> <td>71.5           </td>\n",
       "        </tr>\n",
       "        <tr>\n",
       "            <td>12  </td> <td>Algeria    </td> <td>2010</td> <td>73.9           </td>\n",
       "        </tr>\n",
       "        <tr>\n",
       "            <td>12  </td> <td>Algeria    </td> <td>2015</td> <td>75.3           </td>\n",
       "        </tr>\n",
       "        <tr>\n",
       "            <td>24  </td> <td>Angola     </td> <td>2005</td> <td>50             </td>\n",
       "        </tr>\n",
       "    </tbody>\n",
       "</table>\n",
       "<p>... (596 rows omitted)</p>"
      ],
      "text/plain": [
       "T03  | Country     | Year | Life Expectancy\n",
       "4    | Afghanistan | 2005 | 56.9\n",
       "4    | Afghanistan | 2010 | 60\n",
       "4    | Afghanistan | 2015 | 62.3\n",
       "8    | Albania     | 2005 | 74.8\n",
       "8    | Albania     | 2010 | 75.6\n",
       "8    | Albania     | 2015 | 77.7\n",
       "12   | Algeria     | 2005 | 71.5\n",
       "12   | Algeria     | 2010 | 73.9\n",
       "12   | Algeria     | 2015 | 75.3\n",
       "24   | Angola      | 2005 | 50\n",
       "... (596 rows omitted)"
      ]
     },
     "execution_count": 105,
     "metadata": {},
     "output_type": "execute_result"
    }
   ],
   "source": [
    "# You should see the life expectancies table again\n",
    "lifeExpectancies = Table.read_table('LifeExpectancyV4.csv')\n",
    "lifeExpectancies"
   ]
  },
  {
   "cell_type": "markdown",
   "metadata": {},
   "source": [
    "2.1 We want to create two seperate tables, one with just data on the life expectancies in the year 2010 and another with just life expectancies for the year 2015. Write the code below that does that. (This requires using multiple table functions that we introduced in class and \"cleaning\" the dataset to only have columns that are relevant.) "
   ]
  },
  {
   "cell_type": "code",
   "execution_count": null,
   "metadata": {},
   "outputs": [],
   "source": [
    "lifeExpectancies2010 = ? \n",
    "lifeExpectancies2015 = ?"
   ]
  },
  {
   "cell_type": "code",
   "execution_count": 106,
   "metadata": {},
   "outputs": [
    {
     "data": {
      "text/html": [
       "<table border=\"1\" class=\"dataframe\">\n",
       "    <thead>\n",
       "        <tr>\n",
       "            <th>Country</th> <th>Life Expectancy</th>\n",
       "        </tr>\n",
       "    </thead>\n",
       "    <tbody>\n",
       "        <tr>\n",
       "            <td>Afghanistan        </td> <td>60             </td>\n",
       "        </tr>\n",
       "        <tr>\n",
       "            <td>Albania            </td> <td>75.6           </td>\n",
       "        </tr>\n",
       "        <tr>\n",
       "            <td>Algeria            </td> <td>73.9           </td>\n",
       "        </tr>\n",
       "        <tr>\n",
       "            <td>Angola             </td> <td>55.6           </td>\n",
       "        </tr>\n",
       "        <tr>\n",
       "            <td>Antigua and Barbuda</td> <td>75             </td>\n",
       "        </tr>\n",
       "        <tr>\n",
       "            <td>Argentina          </td> <td>75.2           </td>\n",
       "        </tr>\n",
       "        <tr>\n",
       "            <td>Armenia            </td> <td>72.7           </td>\n",
       "        </tr>\n",
       "        <tr>\n",
       "            <td>Aruba              </td> <td>74.7           </td>\n",
       "        </tr>\n",
       "        <tr>\n",
       "            <td>Australia          </td> <td>81.5           </td>\n",
       "        </tr>\n",
       "        <tr>\n",
       "            <td>Austria            </td> <td>80.1           </td>\n",
       "        </tr>\n",
       "    </tbody>\n",
       "</table>\n",
       "<p>... (193 rows omitted)</p>"
      ],
      "text/plain": [
       "Country             | Life Expectancy\n",
       "Afghanistan         | 60\n",
       "Albania             | 75.6\n",
       "Algeria             | 73.9\n",
       "Angola              | 55.6\n",
       "Antigua and Barbuda | 75\n",
       "Argentina           | 75.2\n",
       "Armenia             | 72.7\n",
       "Aruba               | 74.7\n",
       "Australia           | 81.5\n",
       "Austria             | 80.1\n",
       "... (193 rows omitted)"
      ]
     },
     "execution_count": 106,
     "metadata": {},
     "output_type": "execute_result"
    }
   ],
   "source": [
    "lifeExpectancies2010 = lifeExpectancies.where(\"Year\", are.equal_to(2010)).select(\"Country\", \"Life Expectancy\")\n",
    "lifeExpectancies2010"
   ]
  },
  {
   "cell_type": "code",
   "execution_count": 107,
   "metadata": {},
   "outputs": [
    {
     "data": {
      "text/html": [
       "<table border=\"1\" class=\"dataframe\">\n",
       "    <thead>\n",
       "        <tr>\n",
       "            <th>Country</th> <th>Life Expectancy</th>\n",
       "        </tr>\n",
       "    </thead>\n",
       "    <tbody>\n",
       "        <tr>\n",
       "            <td>Afghanistan        </td> <td>62.3           </td>\n",
       "        </tr>\n",
       "        <tr>\n",
       "            <td>Albania            </td> <td>77.7           </td>\n",
       "        </tr>\n",
       "        <tr>\n",
       "            <td>Algeria            </td> <td>75.3           </td>\n",
       "        </tr>\n",
       "        <tr>\n",
       "            <td>Angola             </td> <td>60.2           </td>\n",
       "        </tr>\n",
       "        <tr>\n",
       "            <td>Antigua and Barbuda</td> <td>75.8           </td>\n",
       "        </tr>\n",
       "        <tr>\n",
       "            <td>Argentina          </td> <td>76             </td>\n",
       "        </tr>\n",
       "        <tr>\n",
       "            <td>Armenia            </td> <td>74             </td>\n",
       "        </tr>\n",
       "        <tr>\n",
       "            <td>Aruba              </td> <td>75.4           </td>\n",
       "        </tr>\n",
       "        <tr>\n",
       "            <td>Australia          </td> <td>82.3           </td>\n",
       "        </tr>\n",
       "        <tr>\n",
       "            <td>Austria            </td> <td>81             </td>\n",
       "        </tr>\n",
       "    </tbody>\n",
       "</table>\n",
       "<p>... (192 rows omitted)</p>"
      ],
      "text/plain": [
       "Country             | Life Expectancy\n",
       "Afghanistan         | 62.3\n",
       "Albania             | 77.7\n",
       "Algeria             | 75.3\n",
       "Angola              | 60.2\n",
       "Antigua and Barbuda | 75.8\n",
       "Argentina           | 76\n",
       "Armenia             | 74\n",
       "Aruba               | 75.4\n",
       "Australia           | 82.3\n",
       "Austria             | 81\n",
       "... (192 rows omitted)"
      ]
     },
     "execution_count": 107,
     "metadata": {},
     "output_type": "execute_result"
    }
   ],
   "source": [
    "lifeExpectancies2015 = lifeExpectancies.where(\"Year\", are.equal_to(2015)).select(\"Country\", \"Life Expectancy\")\n",
    "lifeExpectancies2015"
   ]
  },
  {
   "cell_type": "markdown",
   "metadata": {},
   "source": [
    "**2.2** Create a histogram of both the 2015 and the 2010 datasets you created earlier "
   ]
  },
  {
   "cell_type": "code",
   "execution_count": null,
   "metadata": {},
   "outputs": [],
   "source": [
    "# Your code here! "
   ]
  },
  {
   "cell_type": "code",
   "execution_count": 108,
   "metadata": {},
   "outputs": [
    {
     "data": {
      "image/png": "[encoded data removed]",
      "text/plain": [
       "<Figure size 432x288 with 1 Axes>"
      ]
     },
     "metadata": {},
     "output_type": "display_data"
    }
   ],
   "source": [
    "lifeExpectancies2010.hist(\"Life Expectancy\")"
   ]
  },
  {
   "cell_type": "code",
   "execution_count": 109,
   "metadata": {},
   "outputs": [
    {
     "data": {
      "image/png": "[encoded data removed]",
      "text/plain": [
       "<Figure size 432x288 with 1 Axes>"
      ]
     },
     "metadata": {},
     "output_type": "display_data"
    }
   ],
   "source": [
    "lifeExpectancies2015.hist(\"Life Expectancy\")"
   ]
  },
  {
   "cell_type": "markdown",
   "metadata": {},
   "source": [
    "**2.3** What kind of tail (left/right/none) do both these distribution have?"
   ]
  },
  {
   "cell_type": "code",
   "execution_count": 50,
   "metadata": {},
   "outputs": [
    {
     "ename": "SyntaxError",
     "evalue": "invalid syntax (<ipython-input-50-7f49f8f857fb>, line 2)",
     "output_type": "error",
     "traceback": [
      "\u001b[0;36m  File \u001b[0;32m\"<ipython-input-50-7f49f8f857fb>\"\u001b[0;36m, line \u001b[0;32m2\u001b[0m\n\u001b[0;31m    tail = ?\u001b[0m\n\u001b[0m           ^\u001b[0m\n\u001b[0;31mSyntaxError\u001b[0m\u001b[0;31m:\u001b[0m invalid syntax\n"
     ]
    }
   ],
   "source": [
    "# Put your answer for the tail in a string for the variable so the autograder can check it! (All lower case)\n",
    "tail = ? "
   ]
  },
  {
   "cell_type": "code",
   "execution_count": 51,
   "metadata": {},
   "outputs": [],
   "source": [
    "tail = \"left\""
   ]
  },
  {
   "cell_type": "markdown",
   "metadata": {},
   "source": [
    "**2.4** Why do you think life expectancy may be distributed this way? "
   ]
  },
  {
   "cell_type": "markdown",
   "metadata": {},
   "source": [
    "**Your answer here on why the data might be distributed this way**"
   ]
  },
  {
   "cell_type": "markdown",
   "metadata": {},
   "source": [
    "-----"
   ]
  },
  {
   "cell_type": "markdown",
   "metadata": {},
   "source": [
    "Let's calculate some **sample statistics** on our two datasets! "
   ]
  },
  {
   "cell_type": "markdown",
   "metadata": {},
   "source": [
    "**2.5** First figure out the *average* for Projected Life Expectancy around the world in both 2010 and 2015 and store it in an **array** of size 2. "
   ]
  },
  {
   "cell_type": "code",
   "execution_count": null,
   "metadata": {},
   "outputs": [],
   "source": [
    "avgLE = ? "
   ]
  },
  {
   "cell_type": "code",
   "execution_count": 110,
   "metadata": {},
   "outputs": [
    {
     "data": {
      "text/plain": [
       "array([69.64827586, 71.3549505 ])"
      ]
     },
     "execution_count": 110,
     "metadata": {},
     "output_type": "execute_result"
    }
   ],
   "source": [
    "avgLE = make_array(np.mean(lifeExpectancies2010.column(\"Life Expectancy\")), \\\n",
    "                   np.mean(lifeExpectancies2015.column(\"Life Expectancy\")))\n",
    "avgLE"
   ]
  },
  {
   "cell_type": "markdown",
   "metadata": {},
   "source": [
    "**2.6** Next figure out the *median* for Projected Life Expectancy in both 2010 and 2015 and store it in an array of size 2. "
   ]
  },
  {
   "cell_type": "code",
   "execution_count": null,
   "metadata": {},
   "outputs": [],
   "source": [
    "medianLE = ? "
   ]
  },
  {
   "cell_type": "code",
   "execution_count": 111,
   "metadata": {},
   "outputs": [
    {
     "data": {
      "text/plain": [
       "array([72.4 , 73.45])"
      ]
     },
     "execution_count": 111,
     "metadata": {},
     "output_type": "execute_result"
    }
   ],
   "source": [
    "medianLE = make_array(np.median(lifeExpectancies2010.column(\"Life Expectancy\")), \\\n",
    "                   np.median(lifeExpectancies2015.column(\"Life Expectancy\")))\n",
    "medianLE"
   ]
  },
  {
   "cell_type": "markdown",
   "metadata": {},
   "source": [
    "**2.7** Finally figure out the *standard deviation* for Projected Life Expectancy in both 2010 and 2015 and store it in an array of size 2."
   ]
  },
  {
   "cell_type": "code",
   "execution_count": 112,
   "metadata": {},
   "outputs": [
    {
     "data": {
      "text/plain": [
       "array([9.07277824, 8.16060934])"
      ]
     },
     "execution_count": 112,
     "metadata": {},
     "output_type": "execute_result"
    }
   ],
   "source": [
    "stdLE = make_array(np.std(lifeExpectancies2010.column(\"Life Expectancy\")), \\\n",
    "                   np.std(lifeExpectancies2015.column(\"Life Expectancy\")))\n",
    "stdLE"
   ]
  },
  {
   "cell_type": "markdown",
   "metadata": {},
   "source": [
    "**2.8** Using the arrays from before calculate the *rate of change* between 2010 and 2015 for these sample statistics and store it in an array of size 3. Do all of your calculations in one line and make sure they are percentages! \n",
    "\n",
    "The equation for Rate of Change is below. "
   ]
  },
  {
   "cell_type": "markdown",
   "metadata": {},
   "source": [
    "RATE OF CHANGE EQUATION"
   ]
  },
  {
   "cell_type": "code",
   "execution_count": 127,
   "metadata": {},
   "outputs": [
    {
     "data": {
      "text/plain": [
       "2.45041906903832"
      ]
     },
     "execution_count": 127,
     "metadata": {},
     "output_type": "execute_result"
    }
   ],
   "source": [
    "rateofChangeAverage= ( (avgLE.item(1) - avgLE.item(0) ) / avgLE.item(0)) * 100\n",
    "rateofChangeMedian = ( (avgLE.item(1) - avgLE.item(0) ) / avgLE.item(0)) * 100  \n",
    "rateofChangeMean = ( (avgLE.item(1) - avgLE.item(0) ) / avgLE.item(0)) * 100  "
   ]
  },
  {
   "cell_type": "code",
   "execution_count": 124,
   "metadata": {},
   "outputs": [
    {
     "data": {
      "text/plain": [
       "71.35495049504951"
      ]
     },
     "execution_count": 124,
     "metadata": {},
     "output_type": "execute_result"
    }
   ],
   "source": [
    "avgLE.item(1)"
   ]
  },
  {
   "cell_type": "code",
   "execution_count": 87,
   "metadata": {},
   "outputs": [
    {
     "ename": "ValueError",
     "evalue": "operands could not be broadcast together with shapes (202,) (203,) ",
     "output_type": "error",
     "traceback": [
      "\u001b[0;31m---------------------------------------------------------------------------\u001b[0m",
      "\u001b[0;31mValueError\u001b[0m                                Traceback (most recent call last)",
      "\u001b[0;32m<ipython-input-87-4f8dc220bb3c>\u001b[0m in \u001b[0;36m<module>\u001b[0;34m\u001b[0m\n\u001b[0;32m----> 1\u001b[0;31m \u001b[0mlifeExpectancies2015\u001b[0m\u001b[0;34m.\u001b[0m\u001b[0mcolumn\u001b[0m\u001b[0;34m(\u001b[0m\u001b[0;34m\"Life Expectancy\"\u001b[0m\u001b[0;34m)\u001b[0m \u001b[0;34m-\u001b[0m \u001b[0mlifeExpectancies2010\u001b[0m\u001b[0;34m.\u001b[0m\u001b[0mcolumn\u001b[0m\u001b[0;34m(\u001b[0m\u001b[0;34m\"Life Expectancy\"\u001b[0m\u001b[0;34m)\u001b[0m\u001b[0;34m\u001b[0m\u001b[0;34m\u001b[0m\u001b[0m\n\u001b[0m",
      "\u001b[0;31mValueError\u001b[0m: operands could not be broadcast together with shapes (202,) (203,) "
     ]
    }
   ],
   "source": [
    "lifeExpectancies2015.column(\"Life Expectancy\") - lifeExpectancies2010.column(\"Life Expectancy\")"
   ]
  },
  {
   "cell_type": "code",
   "execution_count": 114,
   "metadata": {},
   "outputs": [
    {
     "data": {
      "text/html": [
       "<table border=\"1\" class=\"dataframe\">\n",
       "    <thead>\n",
       "        <tr>\n",
       "            <th>Country</th> <th>count</th>\n",
       "        </tr>\n",
       "    </thead>\n",
       "    <tbody>\n",
       "        <tr>\n",
       "            <td>Bermuda            </td> <td>1    </td>\n",
       "        </tr>\n",
       "        <tr>\n",
       "            <td>Palau              </td> <td>1    </td>\n",
       "        </tr>\n",
       "        <tr>\n",
       "            <td>Tuvalu             </td> <td>1    </td>\n",
       "        </tr>\n",
       "        <tr>\n",
       "            <td>Afghanistan        </td> <td>3    </td>\n",
       "        </tr>\n",
       "        <tr>\n",
       "            <td>Albania            </td> <td>3    </td>\n",
       "        </tr>\n",
       "        <tr>\n",
       "            <td>Algeria            </td> <td>3    </td>\n",
       "        </tr>\n",
       "        <tr>\n",
       "            <td>Angola             </td> <td>3    </td>\n",
       "        </tr>\n",
       "        <tr>\n",
       "            <td>Antigua and Barbuda</td> <td>3    </td>\n",
       "        </tr>\n",
       "        <tr>\n",
       "            <td>Argentina          </td> <td>3    </td>\n",
       "        </tr>\n",
       "        <tr>\n",
       "            <td>Armenia            </td> <td>3    </td>\n",
       "        </tr>\n",
       "    </tbody>\n",
       "</table>\n",
       "<p>... (194 rows omitted)</p>"
      ],
      "text/plain": [
       "Country             | count\n",
       "Bermuda             | 1\n",
       "Palau               | 1\n",
       "Tuvalu              | 1\n",
       "Afghanistan         | 3\n",
       "Albania             | 3\n",
       "Algeria             | 3\n",
       "Angola              | 3\n",
       "Antigua and Barbuda | 3\n",
       "Argentina           | 3\n",
       "Armenia             | 3\n",
       "... (194 rows omitted)"
      ]
     },
     "execution_count": 114,
     "metadata": {},
     "output_type": "execute_result"
    }
   ],
   "source": [
    "lifeExpectancies.group(\"Country\").sort(\"count\")"
   ]
  },
  {
   "cell_type": "code",
   "execution_count": 104,
   "metadata": {},
   "outputs": [
    {
     "ename": "AttributeError",
     "evalue": "'_combinable' object has no attribute 'are'",
     "output_type": "error",
     "traceback": [
      "\u001b[0;31m---------------------------------------------------------------------------\u001b[0m",
      "\u001b[0;31mAttributeError\u001b[0m                            Traceback (most recent call last)",
      "\u001b[0;32m<ipython-input-104-3026159dcdfb>\u001b[0m in \u001b[0;36m<module>\u001b[0;34m\u001b[0m\n\u001b[0;32m----> 1\u001b[0;31m \u001b[0mlifeExpectancies\u001b[0m\u001b[0;34m.\u001b[0m\u001b[0mwhere\u001b[0m\u001b[0;34m(\u001b[0m\u001b[0;34m\"Year\"\u001b[0m\u001b[0;34m,\u001b[0m \u001b[0mare\u001b[0m\u001b[0;34m.\u001b[0m\u001b[0mequal_to\u001b[0m\u001b[0;34m(\u001b[0m\u001b[0;36m2010\u001b[0m\u001b[0;34m)\u001b[0m\u001b[0;34m.\u001b[0m\u001b[0mare\u001b[0m\u001b[0;34m.\u001b[0m\u001b[0mequal_to\u001b[0m\u001b[0;34m(\u001b[0m\u001b[0;36m2015\u001b[0m\u001b[0;34m)\u001b[0m\u001b[0;34m)\u001b[0m\u001b[0;34m.\u001b[0m\u001b[0mselect\u001b[0m\u001b[0;34m(\u001b[0m\u001b[0;34m\"Country\"\u001b[0m\u001b[0;34m,\u001b[0m \u001b[0;34m\"Life Expectancy\"\u001b[0m\u001b[0;34m)\u001b[0m\u001b[0;34m\u001b[0m\u001b[0;34m\u001b[0m\u001b[0m\n\u001b[0m",
      "\u001b[0;31mAttributeError\u001b[0m: '_combinable' object has no attribute 'are'"
     ]
    }
   ],
   "source": [
    "lifeExpectancies.where(\"Year\", are.equal_to(2010)).select(\"Country\", \"Life Expectancy\")"
   ]
  },
  {
   "cell_type": "markdown",
   "metadata": {},
   "source": [
    "Bonus Question: Unfortunately there's a (small) issue in this data set: For a certain number of countries the UN didn't actually report data for all three years (2005/2010/2015). \n",
    "\n",
    "Can you identify the countries where this problems exists? \n",
    "\n",
    "Hint: You'll have to think a little out of the box for this question since there isn't a function that directly solves the problem of missing data for you. But by using just a combination of the Table functions you've learned, you can solve this problem. \n",
    "\n",
    "If you're especially daring you can solve this problem in one line of code! "
   ]
  },
  {
   "cell_type": "code",
   "execution_count": 120,
   "metadata": {},
   "outputs": [],
   "source": [
    "# Store the list of countries in an array \n",
    "missingCountries = lifeExpectancies.group(\"Country\").sort(\"count\").where(\"count\", are.equal_to(1)).column(\"Country\")"
   ]
  }
 ],
 "metadata": {
  "kernelspec": {
   "display_name": "Python 3",
   "language": "python",
   "name": "python3"
  },
  "language_info": {
   "codemirror_mode": {
    "name": "ipython",
    "version": 3
   },
   "file_extension": ".py",
   "mimetype": "text/x-python",
   "name": "python",
   "nbconvert_exporter": "python",
   "pygments_lexer": "ipython3",
   "version": "3.6.7"
  }
 },
 "nbformat": 4,
 "nbformat_minor": 2
}
