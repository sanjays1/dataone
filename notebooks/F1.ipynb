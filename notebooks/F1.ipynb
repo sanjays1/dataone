{
 "cells": [
  {
   "cell_type": "markdown",
   "metadata": {},
   "source": [
    "### Setup"
   ]
  },
  {
   "cell_type": "code",
   "execution_count": 6,
   "metadata": {},
   "outputs": [],
   "source": [
    "from datascience import *\n",
    "import matplotlib\n",
    "%matplotlib inline\n",
    "import matplotlib.pyplot as plt\n",
    "plt.style.use('fivethirtyeight')\n",
    "import warnings\n",
    "warnings.simplefilter('ignore', FutureWarning)\n",
    "import numpy as np"
   ]
  },
  {
   "cell_type": "markdown",
   "metadata": {},
   "source": [
    "### Sampling and the Central Limit Theorem"
   ]
  },
  {
   "cell_type": "markdown",
   "metadata": {},
   "source": [
    "We're going to explore the concept of sampling and the true power of the Central Limit Theorem (the \"golden rule of statistics\") by examining data from the the City of Baltimore. We have a dataset that captures **salary** from July 1, 2017 through June 30, 2018 for city employees. (Data Dictionary Below)"
   ]
  },
  {
   "cell_type": "markdown",
   "metadata": {},
   "source": [
    "**NAME** = String for the name of the employee \n",
    "\n",
    "**JOBTITLE** = String for the job title of the employee \n",
    "\n",
    "**DEPTID** = String for the associated department ID for that employee\n",
    "\n",
    "**DESCR** = String for the department the employee was hired into\n",
    "\n",
    "**HIRE_DT** = Date and time object for the date the employee was hired by the City of Baltimore\n",
    "\n",
    "**ANNUAL_RT** = Integer for the Annual Salary of the employee \n",
    "\n",
    "**GROSS** = Float for the Gross Salary of the employee"
   ]
  },
  {
   "cell_type": "markdown",
   "metadata": {},
   "source": [
    "**1.1** First load the appropriate data set into a table "
   ]
  },
  {
   "cell_type": "code",
   "execution_count": null,
   "metadata": {},
   "outputs": [],
   "source": [
    "# Your code here \n",
    "baltimoreEmployees = ... "
   ]
  },
  {
   "cell_type": "code",
   "execution_count": 8,
   "metadata": {},
   "outputs": [],
   "source": [
    "#Answer\n",
    "baltimoreEmployees = Table.read_table('BaltimoreCityEmployeesSalaries.csv')"
   ]
  },
  {
   "cell_type": "code",
   "execution_count": 9,
   "metadata": {},
   "outputs": [
    {
     "data": {
      "text/html": [
       "<table border=\"1\" class=\"dataframe\">\n",
       "    <thead>\n",
       "        <tr>\n",
       "            <th>NAME</th> <th>JOBTITLE</th> <th>DEPTID</th> <th>DESCR</th> <th>HIRE_DT</th> <th>ANNUAL_RT</th> <th>GROSS</th>\n",
       "        </tr>\n",
       "    </thead>\n",
       "    <tbody>\n",
       "        <tr>\n",
       "            <td>Aaron,Patricia G     </td> <td>Facilities/Office Services II</td> <td>A03031</td> <td>OED-Employment Dev (031)     </td> <td>10/24/1979 12:00:00 AM</td> <td>60200    </td> <td>58480.5</td>\n",
       "        </tr>\n",
       "        <tr>\n",
       "            <td>Aaron,Petra L        </td> <td>Assistant State's Attorney   </td> <td>A29045</td> <td>States Attorneys Office (045)</td> <td>09/25/2006 12:00:00 AM</td> <td>81200    </td> <td>79220.7</td>\n",
       "        </tr>\n",
       "        <tr>\n",
       "            <td>Abadir,Adam O        </td> <td>Council Technician           </td> <td>A02002</td> <td>City Council (002)           </td> <td>12/12/2016 12:00:00 AM</td> <td>64823    </td> <td>57375.3</td>\n",
       "        </tr>\n",
       "        <tr>\n",
       "            <td>Abaku,Aigbolosimuan O</td> <td>Police Officer Trainee       </td> <td>A99416</td> <td>Police Department (416)      </td> <td>04/17/2018 12:00:00 AM</td> <td>50440    </td> <td>11881.3</td>\n",
       "        </tr>\n",
       "        <tr>\n",
       "            <td>Abbeduto,Mack        </td> <td>Law Clerk SAO                </td> <td>A29017</td> <td>States Attorneys Office (017)</td> <td>05/22/2017 12:00:00 AM</td> <td>38926    </td> <td>35138.4</td>\n",
       "        </tr>\n",
       "        <tr>\n",
       "            <td>Abbott,Ethan N       </td> <td>Recreation Arts Instructor   </td> <td>A67012</td> <td>R&P-Administration (012)     </td> <td>04/11/2018 12:00:00 AM</td> <td>33280    </td> <td>4642.72</td>\n",
       "        </tr>\n",
       "        <tr>\n",
       "            <td>Abbott-Cole,Michelle </td> <td>Operations Officer III       </td> <td>A90005</td> <td>TRANS-Traffic (005)          </td> <td>11/28/2014 12:00:00 AM</td> <td>74300    </td> <td>75011.4</td>\n",
       "        </tr>\n",
       "        <tr>\n",
       "            <td>Abdal-Rahim,Naim A   </td> <td>EMT Firefighter Suppression  </td> <td>A64120</td> <td>Fire Department (120)        </td> <td>03/30/2011 12:00:00 AM</td> <td>66310    </td> <td>79114.5</td>\n",
       "        </tr>\n",
       "        <tr>\n",
       "            <td>Abdi,Ezekiel W       </td> <td>Police Sergeant              </td> <td>A99160</td> <td>Police Department (160)      </td> <td>06/14/2007 12:00:00 AM</td> <td>86902    </td> <td>112341 </td>\n",
       "        </tr>\n",
       "        <tr>\n",
       "            <td>Abdul Adl,Attrice A  </td> <td>Radio Dispatcher Sheriff     </td> <td>A38410</td> <td>Sheriff's Office (410)       </td> <td>09/02/1999 12:00:00 AM</td> <td>48701    </td> <td>62065.4</td>\n",
       "        </tr>\n",
       "    </tbody>\n",
       "</table>\n",
       "<p>... (13673 rows omitted)</p>"
      ],
      "text/plain": [
       "NAME                  | JOBTITLE                      | DEPTID | DESCR                         | HIRE_DT                | ANNUAL_RT | GROSS\n",
       "Aaron,Patricia G      | Facilities/Office Services II | A03031 | OED-Employment Dev (031)      | 10/24/1979 12:00:00 AM | 60200     | 58480.5\n",
       "Aaron,Petra L         | Assistant State's Attorney    | A29045 | States Attorneys Office (045) | 09/25/2006 12:00:00 AM | 81200     | 79220.7\n",
       "Abadir,Adam O         | Council Technician            | A02002 | City Council (002)            | 12/12/2016 12:00:00 AM | 64823     | 57375.3\n",
       "Abaku,Aigbolosimuan O | Police Officer Trainee        | A99416 | Police Department (416)       | 04/17/2018 12:00:00 AM | 50440     | 11881.3\n",
       "Abbeduto,Mack         | Law Clerk SAO                 | A29017 | States Attorneys Office (017) | 05/22/2017 12:00:00 AM | 38926     | 35138.4\n",
       "Abbott,Ethan N        | Recreation Arts Instructor    | A67012 | R&P-Administration (012)      | 04/11/2018 12:00:00 AM | 33280     | 4642.72\n",
       "Abbott-Cole,Michelle  | Operations Officer III        | A90005 | TRANS-Traffic (005)           | 11/28/2014 12:00:00 AM | 74300     | 75011.4\n",
       "Abdal-Rahim,Naim A    | EMT Firefighter Suppression   | A64120 | Fire Department (120)         | 03/30/2011 12:00:00 AM | 66310     | 79114.5\n",
       "Abdi,Ezekiel W        | Police Sergeant               | A99160 | Police Department (160)       | 06/14/2007 12:00:00 AM | 86902     | 112341\n",
       "Abdul Adl,Attrice A   | Radio Dispatcher Sheriff      | A38410 | Sheriff's Office (410)        | 09/02/1999 12:00:00 AM | 48701     | 62065.4\n",
       "... (13673 rows omitted)"
      ]
     },
     "execution_count": 9,
     "metadata": {},
     "output_type": "execute_result"
    }
   ],
   "source": [
    "#You should see a preview of the table below\n",
    "baltimoreEmployees"
   ]
  },
  {
   "cell_type": "markdown",
   "metadata": {},
   "source": [
    "Here's some statistics calculated on the **ANNUAL SALARY** of employees in the city of Baltimore. \n",
    "\n",
    "**Mean**= ~$56,751.77\n",
    "\n",
    "**Median** = ~$52,456.00\n",
    "\n",
    "**Standard Deviation** = ~$25,490.32"
   ]
  },
  {
   "cell_type": "markdown",
   "metadata": {},
   "source": [
    "**1.2** Based on *just these values* what can you guess about the distribution of salaries in Baltimore? (Is it normally distributed? What type of tail would you guess this distribution has?) "
   ]
  },
  {
   "cell_type": "markdown",
   "metadata": {},
   "source": [
    "**YOUR ANSWER HERE** "
   ]
  },
  {
   "cell_type": "markdown",
   "metadata": {},
   "source": [
    "Let's visualize baltimore employee salaries, run the cell below to see a distribution of annual salaries. "
   ]
  },
  {
   "cell_type": "code",
   "execution_count": 26,
   "metadata": {},
   "outputs": [
    {
     "data": {
      "image/png": "[encoded data removed]",
      "text/plain": [
       "<Figure size 432x288 with 1 Axes>"
      ]
     },
     "metadata": {},
     "output_type": "display_data"
    }
   ],
   "source": [
    "baltimoreEmployees.hist(\"ANNUAL_RT\")"
   ]
  },
  {
   "cell_type": "markdown",
   "metadata": {},
   "source": [
    "**1.3** Something you may notice is that the default histogram drawn doesn't do a great job of really visualizing the distribution of the dataset (half the x-axis is unused for example). We can change that though! \n",
    "\n",
    "Draw a new historgram with different bins that does a better job of showing this distribution."
   ]
  },
  {
   "cell_type": "code",
   "execution_count": 17,
   "metadata": {},
   "outputs": [
    {
     "data": {
      "image/png": "[encoded data removed]",
      "text/plain": [
       "<Figure size 432x288 with 1 Axes>"
      ]
     },
     "metadata": {},
     "output_type": "display_data"
    }
   ],
   "source": [
    "baltimoreEmployees.hist(\"ANNUAL_RT\", bins=np.arange(0,160000, 1000))"
   ]
  },
  {
   "cell_type": "markdown",
   "metadata": {},
   "source": [
    "**1.4** What kind of tail (left/right/none) does this dataset have?"
   ]
  },
  {
   "cell_type": "code",
   "execution_count": null,
   "metadata": {},
   "outputs": [],
   "source": [
    "# Put your answer for the tail in a string for the variable so the autograder can check it! (All lower case)\n",
    "tail = ? "
   ]
  },
  {
   "cell_type": "markdown",
   "metadata": {},
   "source": [
    "This dataset is larger than anything you've used in class so far (~13.6 K rows) and doesn't follow a normal distribution. Calculating the average of such a set might seem like a challenge but we can extrapolate the average of the entire set with sampling using the **Central Limit Theorem**. "
   ]
  },
  {
   "cell_type": "markdown",
   "metadata": {},
   "source": [
    "As a reminder, here's the definition of the Central Limit Theorem. "
   ]
  },
  {
   "cell_type": "markdown",
   "metadata": {},
   "source": [
    "The **Central Limit Theorem** says that the probability distribution of the sum or average of a large random sample drawn with replacement will be roughly **normal**, regardless of the distribution of the population from which the sample is drawn."
   ]
  },
  {
   "cell_type": "markdown",
   "metadata": {},
   "source": [
    "1.5 Let's test this theorem out. First take a simple random sample of size ~10 from baltimore dataset, and find the average of the set. (The default for sampling does sampling with replacement so no need to worry about inserting a parameter.)"
   ]
  },
  {
   "cell_type": "code",
   "execution_count": null,
   "metadata": {},
   "outputs": [],
   "source": [
    "# Your code here\n",
    "average10 = ? "
   ]
  },
  {
   "cell_type": "code",
   "execution_count": null,
   "metadata": {},
   "outputs": [],
   "source": [
    "average10 = np.mean(baltimoreEmployees.sample(10).column(\"ANNUAL_RT\"))\n",
    "average10"
   ]
  },
  {
   "cell_type": "markdown",
   "metadata": {},
   "source": [
    "One thing you can notice is that if you keep running your answer for question 1.5 you will get wildely different averages. The power of Central Limit Theorem comes from **repeating** the sampling process to generate the averages. "
   ]
  },
  {
   "cell_type": "markdown",
   "metadata": {},
   "source": [
    "1.6 Create an array that is a list of **averages** after sampling **10 items** from the Baltimore Employees table **10,000** times (Hint: You will find the **np.append** function very useful, use the help function to explore what it can do.)"
   ]
  },
  {
   "cell_type": "code",
   "execution_count": 42,
   "metadata": {},
   "outputs": [],
   "source": [
    "sampledAverages = make_array()\n",
    "for x in range(0, 10000):\n",
    "    sampledAverages = np.append(sampledAverages, np.mean(baltimoreEmployees.sample(10).column(\"ANNUAL_RT\")))"
   ]
  },
  {
   "cell_type": "code",
   "execution_count": null,
   "metadata": {},
   "outputs": [],
   "source": [
    "# AUTOGRADER"
   ]
  },
  {
   "cell_type": "markdown",
   "metadata": {},
   "source": [
    "**1.7** Using this array, create a table with one column named *Sampled Averages* with the values you calculated for question 1.6"
   ]
  },
  {
   "cell_type": "code",
   "execution_count": null,
   "metadata": {},
   "outputs": [],
   "source": [
    "# Your code here\n",
    "sampledAverages = ?"
   ]
  },
  {
   "cell_type": "code",
   "execution_count": 43,
   "metadata": {},
   "outputs": [],
   "source": [
    "sampledAverages = Table().with_column('Sample Averages', sampledAverages)"
   ]
  },
  {
   "cell_type": "code",
   "execution_count": 44,
   "metadata": {},
   "outputs": [
    {
     "data": {
      "text/html": [
       "<table border=\"1\" class=\"dataframe\">\n",
       "    <thead>\n",
       "        <tr>\n",
       "            <th>Sample Averages</th>\n",
       "        </tr>\n",
       "    </thead>\n",
       "    <tbody>\n",
       "        <tr>\n",
       "            <td>59373.9        </td>\n",
       "        </tr>\n",
       "        <tr>\n",
       "            <td>42494.5        </td>\n",
       "        </tr>\n",
       "        <tr>\n",
       "            <td>48930.1        </td>\n",
       "        </tr>\n",
       "        <tr>\n",
       "            <td>76272          </td>\n",
       "        </tr>\n",
       "        <tr>\n",
       "            <td>54511          </td>\n",
       "        </tr>\n",
       "        <tr>\n",
       "            <td>48055.9        </td>\n",
       "        </tr>\n",
       "        <tr>\n",
       "            <td>50930.1        </td>\n",
       "        </tr>\n",
       "        <tr>\n",
       "            <td>43475.7        </td>\n",
       "        </tr>\n",
       "        <tr>\n",
       "            <td>45177.5        </td>\n",
       "        </tr>\n",
       "        <tr>\n",
       "            <td>55154.7        </td>\n",
       "        </tr>\n",
       "    </tbody>\n",
       "</table>\n",
       "<p>... (9990 rows omitted)</p>"
      ],
      "text/plain": [
       "Sample Averages\n",
       "59373.9\n",
       "42494.5\n",
       "48930.1\n",
       "76272\n",
       "54511\n",
       "48055.9\n",
       "50930.1\n",
       "43475.7\n",
       "45177.5\n",
       "55154.7\n",
       "... (9990 rows omitted)"
      ]
     },
     "execution_count": 44,
     "metadata": {},
     "output_type": "execute_result"
    }
   ],
   "source": [
    "# Autograder"
   ]
  },
  {
   "cell_type": "code",
   "execution_count": 51,
   "metadata": {},
   "outputs": [
    {
     "name": "stdout",
     "output_type": "stream",
     "text": [
      "56848.674770000005\n",
      "56410.5\n",
      "8182.013161822734\n"
     ]
    }
   ],
   "source": [
    "print(np.mean(sampledAverages.column(\"Sample Averages\")))\n",
    "print(np.median(sampledAverages.column(\"Sample Averages\")))\n",
    "print(np.std(sampledAverages.column(\"Sample Averages\")))"
   ]
  },
  {
   "cell_type": "markdown",
   "metadata": {},
   "source": [
    "**1.8** We can calculate statistics on the table that we just created. What's the **mean, median, and standard deviation** of *sampledAverages* and what do those numbers actually mean? "
   ]
  },
  {
   "cell_type": "markdown",
   "metadata": {},
   "source": [
    "**YOUR ANSWER HERE**"
   ]
  },
  {
   "cell_type": "markdown",
   "metadata": {},
   "source": [
    "1.9 Now create a histogram out of this table! (Feel free to change the standard bin size to create a better visualization.) "
   ]
  },
  {
   "cell_type": "code",
   "execution_count": null,
   "metadata": {},
   "outputs": [],
   "source": [
    "# Your code here"
   ]
  },
  {
   "cell_type": "code",
   "execution_count": 52,
   "metadata": {},
   "outputs": [
    {
     "data": {
      "image/png": "[encoded data removed]",
      "text/plain": [
       "<Figure size 432x288 with 1 Axes>"
      ]
     },
     "metadata": {},
     "output_type": "display_data"
    }
   ],
   "source": [
    "sampledAverages.hist(\"Sample Averages\")"
   ]
  },
  {
   "cell_type": "markdown",
   "metadata": {},
   "source": [
    "Pretty cool right? Just from a sample size of 10 we can get a normal distribution of the averages and can get a pretty good approximation of the average annual salary"
   ]
  },
  {
   "cell_type": "markdown",
   "metadata": {},
   "source": [
    "-------"
   ]
  },
  {
   "cell_type": "markdown",
   "metadata": {},
   "source": [
    "**Bonus**: Do the exact same process of repeatedly sampling from the Baltimore Employees dataset 10000 times, except increase the sample size to 100 and then to 300. What happens when we increase the sample size to: \n",
    "\n",
    "The Average of the *Sample Means*? \n",
    "\n",
    "The Average of the *Sample Standard Deviations*? \n",
    "\n",
    "The Distribution of the *Histogram*? \n",
    "\n",
    "Does it follow the fundamental principle of the Central Limit Theorem?"
   ]
  },
  {
   "cell_type": "markdown",
   "metadata": {},
   "source": [
    "**Super Bonus** Create a **function** that when you give it a table, column name, sample size, and number of times (repetitions) to pull from that sample, it **returns** the statistics for that approximation of the Central Limit Theorem. (Make sure to return an array of size three, we want mean, median, and standard deviation in that order)!"
   ]
  },
  {
   "cell_type": "code",
   "execution_count": 53,
   "metadata": {},
   "outputs": [
    {
     "ename": "SyntaxError",
     "evalue": "invalid syntax (<ipython-input-53-9d287082e43c>, line 1)",
     "output_type": "error",
     "traceback": [
      "\u001b[0;36m  File \u001b[0;32m\"<ipython-input-53-9d287082e43c>\"\u001b[0;36m, line \u001b[0;32m1\u001b[0m\n\u001b[0;31m    def centralLimitTheorem(... #Your parameters here)\u001b[0m\n\u001b[0m                              ^\u001b[0m\n\u001b[0;31mSyntaxError\u001b[0m\u001b[0;31m:\u001b[0m invalid syntax\n"
     ]
    }
   ],
   "source": [
    "def centralLimitTheorem(...) #Your parameters here \n",
    "    .... # Your code here"
   ]
  },
  {
   "cell_type": "code",
   "execution_count": 85,
   "metadata": {},
   "outputs": [],
   "source": [
    "def centralLimitTheorem(table, columnName, sampleSize, repetitions):\n",
    "    sampledAverages = make_array()\n",
    "    for x in range(0, repetitions):\n",
    "        sampledAverages = np.append(sampledAverages, np.mean(table.sample(sampleSize).column(columnName)))\n",
    "    return make_array(np.mean(sampledAverages), np.median(sampledAverages), np.std(sampledAverages))"
   ]
  },
  {
   "cell_type": "code",
   "execution_count": 90,
   "metadata": {},
   "outputs": [
    {
     "data": {
      "text/plain": [
       "56700.0"
      ]
     },
     "execution_count": 90,
     "metadata": {},
     "output_type": "execute_result"
    }
   ],
   "source": [
    "#Autograder 1, if you're confident your code is correct try running the autograder multiple times\n",
    "#56700.00\n",
    "round(centralLimitTheorem(baltimoreEmployees,\"ANNUAL_RT\", 300, 10000).item(0), -2)"
   ]
  },
  {
   "cell_type": "code",
   "execution_count": 100,
   "metadata": {},
   "outputs": [
    {
     "data": {
      "text/plain": [
       "14"
      ]
     },
     "execution_count": 100,
     "metadata": {},
     "output_type": "execute_result"
    }
   ],
   "source": [
    "#Autograder 2, if you're confident your code is correct try running the autograder multiple times\n",
    "#14 \n",
    "int(centralLimitTheorem(baltimoreEmployees,\"ANNUAL_RT\", 300, 10000).item(2) / 100)"
   ]
  },
  {
   "cell_type": "markdown",
   "metadata": {},
   "source": [
    "### Prediction"
   ]
  },
  {
   "cell_type": "code",
   "execution_count": 96,
   "metadata": {},
   "outputs": [
    {
     "data": {
      "text/plain": [
       "1491.203248630921"
      ]
     },
     "execution_count": 96,
     "metadata": {},
     "output_type": "execute_result"
    }
   ],
   "source": [
    "centralLimitTheorem(baltimoreEmployees,\"ANNUAL_RT\", 300, 10000).item(2)"
   ]
  },
  {
   "cell_type": "code",
   "execution_count": 97,
   "metadata": {},
   "outputs": [
    {
     "data": {
      "text/plain": [
       "1465.6664661556676"
      ]
     },
     "execution_count": 97,
     "metadata": {},
     "output_type": "execute_result"
    }
   ],
   "source": [
    "centralLimitTheorem(baltimoreEmployees,\"ANNUAL_RT\", 300, 10000).item(2)"
   ]
  },
  {
   "cell_type": "code",
   "execution_count": 98,
   "metadata": {},
   "outputs": [
    {
     "data": {
      "text/plain": [
       "1470.7861065751404"
      ]
     },
     "execution_count": 98,
     "metadata": {},
     "output_type": "execute_result"
    }
   ],
   "source": [
    "centralLimitTheorem(baltimoreEmployees,\"ANNUAL_RT\", 300, 10000).item(2)"
   ]
  },
  {
   "cell_type": "code",
   "execution_count": 99,
   "metadata": {},
   "outputs": [
    {
     "data": {
      "text/plain": [
       "1472.6922756233046"
      ]
     },
     "execution_count": 99,
     "metadata": {},
     "output_type": "execute_result"
    }
   ],
   "source": [
    "centralLimitTheorem(baltimoreEmployees,\"ANNUAL_RT\", 300, 10000).item(2)"
   ]
  },
  {
   "cell_type": "code",
   "execution_count": null,
   "metadata": {},
   "outputs": [],
   "source": []
  }
 ],
 "metadata": {
  "kernelspec": {
   "display_name": "Python 3",
   "language": "python",
   "name": "python3"
  },
  "language_info": {
   "codemirror_mode": {
    "name": "ipython",
    "version": 3
   },
   "file_extension": ".py",
   "mimetype": "text/x-python",
   "name": "python",
   "nbconvert_exporter": "python",
   "pygments_lexer": "ipython3",
   "version": "3.6.7"
  }
 },
 "nbformat": 4,
 "nbformat_minor": 2
}
